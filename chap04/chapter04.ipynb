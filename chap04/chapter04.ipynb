{
 "cells": [
  {
   "cell_type": "markdown",
   "metadata": {},
   "source": [
    "Chapter 4 StanとRStanをはじめよう\n",
    "===\n",
    "---"
   ]
  },
  {
   "cell_type": "markdown",
   "metadata": {},
   "source": [
    "## 4.4. 単回帰\n",
    "データの分布の確認"
   ]
  },
  {
   "cell_type": "code",
   "execution_count": 1,
   "metadata": {
    "scrolled": true
   },
   "outputs": [
    {
     "data": {
      "text/html": [
       "<table>\n",
       "<thead><tr><th scope=col>X</th><th scope=col>Y</th></tr></thead>\n",
       "<tbody>\n",
       "\t<tr><td>24 </td><td>472</td></tr>\n",
       "\t<tr><td>24 </td><td>403</td></tr>\n",
       "\t<tr><td>26 </td><td>454</td></tr>\n",
       "\t<tr><td>32 </td><td>575</td></tr>\n",
       "\t<tr><td>33 </td><td>546</td></tr>\n",
       "\t<tr><td>35 </td><td>781</td></tr>\n",
       "</tbody>\n",
       "</table>\n"
      ],
      "text/latex": [
       "\\begin{tabular}{r|ll}\n",
       " X & Y\\\\\n",
       "\\hline\n",
       "\t 24  & 472\\\\\n",
       "\t 24  & 403\\\\\n",
       "\t 26  & 454\\\\\n",
       "\t 32  & 575\\\\\n",
       "\t 33  & 546\\\\\n",
       "\t 35  & 781\\\\\n",
       "\\end{tabular}\n"
      ],
      "text/markdown": [
       "\n",
       "X | Y | \n",
       "|---|---|---|---|---|---|\n",
       "| 24  | 472 | \n",
       "| 24  | 403 | \n",
       "| 26  | 454 | \n",
       "| 32  | 575 | \n",
       "| 33  | 546 | \n",
       "| 35  | 781 | \n",
       "\n",
       "\n"
      ],
      "text/plain": [
       "  X  Y  \n",
       "1 24 472\n",
       "2 24 403\n",
       "3 26 454\n",
       "4 32 575\n",
       "5 33 546\n",
       "6 35 781"
      ]
     },
     "metadata": {},
     "output_type": "display_data"
    }
   ],
   "source": [
    "# fig4-2.R\n",
    "library(ggplot2)\n",
    "\n",
    "d <- read.csv(file='input/data-salary.txt')\n",
    "p <- ggplot(data=d, aes(x=X, y=Y))\n",
    "p <- p + theme_bw(base_size=18)\n",
    "p <- p + geom_point(shape=1, size=3)\n",
    "ggsave(file='output/fig4-2.png', plot=p, dpi=300, w=4, h=3)\n",
    "head(d)"
   ]
  },
  {
   "cell_type": "markdown",
   "metadata": {},
   "source": [
    "<img width=\"300\" src=\"./output/fig4-2.png\">"
   ]
  },
  {
   "cell_type": "code",
   "execution_count": 2,
   "metadata": {},
   "outputs": [
    {
     "data": {
      "text/plain": [
       "\n",
       "Call:\n",
       "lm(formula = Y ~ X, data = d)\n",
       "\n",
       "Coefficients:\n",
       "(Intercept)            X  \n",
       "     -119.7         21.9  \n"
      ]
     },
     "metadata": {},
     "output_type": "display_data"
    }
   ],
   "source": [
    "# lm.R (1)\n",
    "d <- read.csv(file='input/data-salary.txt')\n",
    "res_lm <- lm(Y ~ X, data=d)\n",
    "res_lm # 切片と傾きが表示される"
   ]
  },
  {
   "cell_type": "code",
   "execution_count": 3,
   "metadata": {},
   "outputs": [
    {
     "data": {
      "text/html": [
       "<table>\n",
       "<thead><tr><th></th><th scope=col>fit</th><th scope=col>lwr</th><th scope=col>upr</th></tr></thead>\n",
       "<tbody>\n",
       "\t<tr><th scope=row>1</th><td>384.0995</td><td>309.3077</td><td>458.8913</td></tr>\n",
       "\t<tr><th scope=row>2</th><td>406.0037</td><td>333.9625</td><td>478.0449</td></tr>\n",
       "\t<tr><th scope=row>3</th><td>427.9079</td><td>358.5797</td><td>497.2361</td></tr>\n",
       "\t<tr><th scope=row>4</th><td>449.8121</td><td>383.1547</td><td>516.4695</td></tr>\n",
       "\t<tr><th scope=row>5</th><td>471.7163</td><td>407.6822</td><td>535.7504</td></tr>\n",
       "\t<tr><th scope=row>6</th><td>493.6205</td><td>432.1561</td><td>555.0849</td></tr>\n",
       "</tbody>\n",
       "</table>\n"
      ],
      "text/latex": [
       "\\begin{tabular}{r|lll}\n",
       "  & fit & lwr & upr\\\\\n",
       "\\hline\n",
       "\t1 & 384.0995 & 309.3077 & 458.8913\\\\\n",
       "\t2 & 406.0037 & 333.9625 & 478.0449\\\\\n",
       "\t3 & 427.9079 & 358.5797 & 497.2361\\\\\n",
       "\t4 & 449.8121 & 383.1547 & 516.4695\\\\\n",
       "\t5 & 471.7163 & 407.6822 & 535.7504\\\\\n",
       "\t6 & 493.6205 & 432.1561 & 555.0849\\\\\n",
       "\\end{tabular}\n"
      ],
      "text/markdown": [
       "\n",
       "| <!--/--> | fit | lwr | upr | \n",
       "|---|---|---|---|---|---|\n",
       "| 1 | 384.0995 | 309.3077 | 458.8913 | \n",
       "| 2 | 406.0037 | 333.9625 | 478.0449 | \n",
       "| 3 | 427.9079 | 358.5797 | 497.2361 | \n",
       "| 4 | 449.8121 | 383.1547 | 516.4695 | \n",
       "| 5 | 471.7163 | 407.6822 | 535.7504 | \n",
       "| 6 | 493.6205 | 432.1561 | 555.0849 | \n",
       "\n",
       "\n"
      ],
      "text/plain": [
       "  fit      lwr      upr     \n",
       "1 384.0995 309.3077 458.8913\n",
       "2 406.0037 333.9625 478.0449\n",
       "3 427.9079 358.5797 497.2361\n",
       "4 449.8121 383.1547 516.4695\n",
       "5 471.7163 407.6822 535.7504\n",
       "6 493.6205 432.1561 555.0849"
      ]
     },
     "metadata": {},
     "output_type": "display_data"
    },
    {
     "data": {
      "text/html": [
       "<table>\n",
       "<thead><tr><th></th><th scope=col>fit</th><th scope=col>lwr</th><th scope=col>upr</th></tr></thead>\n",
       "<tbody>\n",
       "\t<tr><th scope=row>1</th><td>384.0995</td><td>201.8638</td><td>566.3352</td></tr>\n",
       "\t<tr><th scope=row>2</th><td>406.0037</td><td>224.8795</td><td>587.1279</td></tr>\n",
       "\t<tr><th scope=row>3</th><td>427.9079</td><td>247.8456</td><td>607.9702</td></tr>\n",
       "\t<tr><th scope=row>4</th><td>449.8121</td><td>270.7611</td><td>628.8631</td></tr>\n",
       "\t<tr><th scope=row>5</th><td>471.7163</td><td>293.6253</td><td>649.8073</td></tr>\n",
       "\t<tr><th scope=row>6</th><td>493.6205</td><td>316.4372</td><td>670.8038</td></tr>\n",
       "</tbody>\n",
       "</table>\n"
      ],
      "text/latex": [
       "\\begin{tabular}{r|lll}\n",
       "  & fit & lwr & upr\\\\\n",
       "\\hline\n",
       "\t1 & 384.0995 & 201.8638 & 566.3352\\\\\n",
       "\t2 & 406.0037 & 224.8795 & 587.1279\\\\\n",
       "\t3 & 427.9079 & 247.8456 & 607.9702\\\\\n",
       "\t4 & 449.8121 & 270.7611 & 628.8631\\\\\n",
       "\t5 & 471.7163 & 293.6253 & 649.8073\\\\\n",
       "\t6 & 493.6205 & 316.4372 & 670.8038\\\\\n",
       "\\end{tabular}\n"
      ],
      "text/markdown": [
       "\n",
       "| <!--/--> | fit | lwr | upr | \n",
       "|---|---|---|---|---|---|\n",
       "| 1 | 384.0995 | 201.8638 | 566.3352 | \n",
       "| 2 | 406.0037 | 224.8795 | 587.1279 | \n",
       "| 3 | 427.9079 | 247.8456 | 607.9702 | \n",
       "| 4 | 449.8121 | 270.7611 | 628.8631 | \n",
       "| 5 | 471.7163 | 293.6253 | 649.8073 | \n",
       "| 6 | 493.6205 | 316.4372 | 670.8038 | \n",
       "\n",
       "\n"
      ],
      "text/plain": [
       "  fit      lwr      upr     \n",
       "1 384.0995 201.8638 566.3352\n",
       "2 406.0037 224.8795 587.1279\n",
       "3 427.9079 247.8456 607.9702\n",
       "4 449.8121 270.7611 628.8631\n",
       "5 471.7163 293.6253 649.8073\n",
       "6 493.6205 316.4372 670.8038"
      ]
     },
     "metadata": {},
     "output_type": "display_data"
    }
   ],
   "source": [
    "# lm.R(2)\n",
    "X_new <- data.frame(X=23:60) # 23, 24, ..., 60を収めたdata frame\n",
    "conf_95 <- predict(res_lm, X_new, interval='confidence', level=0.95)\n",
    "pred_95 <- predict(res_lm, X_new, interval='prediction', level=0.95)\n",
    "\n",
    "# 見てみる\n",
    "head(conf_95)\n",
    "head(pred_95)"
   ]
  },
  {
   "cell_type": "code",
   "execution_count": 4,
   "metadata": {},
   "outputs": [],
   "source": [
    "# fig4-3.R\n",
    "conf_95 <- predict(res_lm, X_new, interval='confidence', level=0.95)\n",
    "conf_95 <- data.frame(X_new, conf_95)\n",
    "conf_50 <- predict(res_lm, X_new, interval='confidence', level=0.50)\n",
    "conf_50 <- data.frame(X_new, conf_50)\n",
    "pred_95 <- predict(res_lm, X_new, interval='prediction', level=0.95)\n",
    "pred_95 <- data.frame(X_new, pred_95)\n",
    "pred_50 <- predict(res_lm, X_new, interval='prediction', level=0.50)\n",
    "pred_50 <- data.frame(X_new, pred_50)\n",
    "\n",
    "p <- ggplot()\n",
    "p <- p + theme_bw(base_size=18)\n",
    "p <- p + geom_ribbon(data=conf_95, aes(x=X, ymin=lwr, ymax=upr), alpha=1/6)\n",
    "p <- p + geom_ribbon(data=conf_50, aes(x=X, ymin=lwr, ymax=upr), alpha=2/6)\n",
    "p <- p + geom_line(data=conf_50, aes(x=X, y=fit), size=1)\n",
    "p <- p + geom_point(data=d, aes(x=X, y=Y), shape=1, size=3)\n",
    "p <- p + labs(x='X', y='Y') + coord_cartesian(xlim=c(22, 61), ylim=c(200, 1400))\n",
    "p <- p + scale_y_continuous(breaks=seq(from=200, to=1400, by=400))\n",
    "ggsave(p, file='output/fig4-3-left.png', dpi=300, w=4, h=3)\n",
    "\n",
    "p <- ggplot()\n",
    "p <- p + theme_bw(base_size=18)\n",
    "p <- p + geom_ribbon(data=pred_95, aes(x=X, ymin=lwr, ymax=upr), alpha=1/6)\n",
    "p <- p + geom_ribbon(data=pred_50, aes(x=X, ymin=lwr, ymax=upr), alpha=2/6)\n",
    "p <- p + geom_line(data=pred_50, aes(x=X, y=fit), size=1)\n",
    "p <- p + geom_point(data=d, aes(x=X, y=Y), shape=1, size=3)\n",
    "p <- p + labs(x='X', y='Y') + coord_cartesian(xlim=c(22, 61), ylim=c(200, 1400))\n",
    "p <- p + scale_y_continuous(breaks=seq(from=200, to=1400, by=400))\n",
    "ggsave(p, file='output/fig4-3-right.png', dpi=300, w=4, h=3)"
   ]
  },
  {
   "cell_type": "markdown",
   "metadata": {},
   "source": [
    "- 基本年収の信頼区間\n",
    "<img width=\"400\" src=\"./output/fig4-3-left.png\">\n",
    "- 年収の予測区間\n",
    "<img width=\"400\" src=\"./output/fig4-3-right.png\">"
   ]
  },
  {
   "cell_type": "markdown",
   "metadata": {},
   "source": [
    "### Stanで実装\n",
    "model: model/model4-5.stan"
   ]
  },
  {
   "cell_type": "code",
   "execution_count": 5,
   "metadata": {
    "scrolled": true
   },
   "outputs": [
    {
     "name": "stderr",
     "output_type": "stream",
     "text": [
      "Loading required package: StanHeaders\n",
      "rstan (Version 2.16.2, packaged: 2017-07-03 09:24:58 UTC, GitRev: 2e1f913d3ca3)\n",
      "For execution on a local, multicore CPU with excess RAM we recommend calling\n",
      "rstan_options(auto_write = TRUE)\n",
      "options(mc.cores = parallel::detectCores())\n"
     ]
    },
    {
     "name": "stdout",
     "output_type": "stream",
     "text": [
      "In file included from file69b47728b67e.cpp:8:\n",
      "In file included from /usr/local/lib/R/3.4/site-library/StanHeaders/include/src/stan/model/model_header.hpp:4:\n",
      "In file included from /usr/local/lib/R/3.4/site-library/StanHeaders/include/stan/math.hpp:4:\n",
      "In file included from /usr/local/lib/R/3.4/site-library/StanHeaders/include/stan/math/rev/mat.hpp:4:\n",
      "In file included from /usr/local/lib/R/3.4/site-library/StanHeaders/include/stan/math/rev/core.hpp:12:\n",
      "In file included from /usr/local/lib/R/3.4/site-library/StanHeaders/include/stan/math/rev/core/gevv_vvv_vari.hpp:5:\n",
      "In file included from /usr/local/lib/R/3.4/site-library/StanHeaders/include/stan/math/rev/core/var.hpp:7:\n",
      "In file included from /usr/local/lib/R/3.4/site-library/BH/include/boost/math/tools/config.hpp:13:\n",
      "In file included from /usr/local/lib/R/3.4/site-library/BH/include/boost/config.hpp:39:\n",
      "/usr/local/lib/R/3.4/site-library/BH/include/boost/config/compiler/clang.hpp:200:11: warning: 'BOOST_NO_CXX11_RVALUE_REFERENCES' macro redefined [-Wmacro-redefined]\n",
      "#  define BOOST_NO_CXX11_RVALUE_REFERENCES\n",
      "          ^\n",
      "<command line>:6:9: note: previous definition is here\n",
      "#define BOOST_NO_CXX11_RVALUE_REFERENCES 1\n",
      "        ^\n",
      "1 warning generated.\n",
      "\n",
      "SAMPLING FOR MODEL 'model4-5' NOW (CHAIN 1).\n",
      "\n",
      "Gradient evaluation took 1.6e-05 seconds\n",
      "1000 transitions using 10 leapfrog steps per transition would take 0.16 seconds.\n",
      "Adjust your expectations accordingly!\n",
      "\n",
      "\n",
      "Iteration:    1 / 2000 [  0%]  (Warmup)\n",
      "Iteration:  200 / 2000 [ 10%]  (Warmup)\n",
      "Iteration:  400 / 2000 [ 20%]  (Warmup)\n",
      "Iteration:  600 / 2000 [ 30%]  (Warmup)\n",
      "Iteration:  800 / 2000 [ 40%]  (Warmup)\n",
      "Iteration: 1000 / 2000 [ 50%]  (Warmup)\n",
      "Iteration: 1001 / 2000 [ 50%]  (Sampling)\n",
      "Iteration: 1200 / 2000 [ 60%]  (Sampling)\n",
      "Iteration: 1400 / 2000 [ 70%]  (Sampling)\n",
      "Iteration: 1600 / 2000 [ 80%]  (Sampling)\n",
      "Iteration: 1800 / 2000 [ 90%]  (Sampling)\n",
      "Iteration: 2000 / 2000 [100%]  (Sampling)\n",
      "\n",
      " Elapsed Time: 0.1033 seconds (Warm-up)\n",
      "               0.057827 seconds (Sampling)\n",
      "               0.161127 seconds (Total)\n",
      "\n",
      "\n",
      "SAMPLING FOR MODEL 'model4-5' NOW (CHAIN 2).\n",
      "\n",
      "Gradient evaluation took 4e-06 seconds\n",
      "1000 transitions using 10 leapfrog steps per transition would take 0.04 seconds.\n",
      "Adjust your expectations accordingly!\n",
      "\n",
      "\n",
      "Iteration:    1 / 2000 [  0%]  (Warmup)\n",
      "Iteration:  200 / 2000 [ 10%]  (Warmup)\n",
      "Iteration:  400 / 2000 [ 20%]  (Warmup)\n",
      "Iteration:  600 / 2000 [ 30%]  (Warmup)\n",
      "Iteration:  800 / 2000 [ 40%]  (Warmup)\n",
      "Iteration: 1000 / 2000 [ 50%]  (Warmup)\n",
      "Iteration: 1001 / 2000 [ 50%]  (Sampling)\n",
      "Iteration: 1200 / 2000 [ 60%]  (Sampling)\n",
      "Iteration: 1400 / 2000 [ 70%]  (Sampling)\n",
      "Iteration: 1600 / 2000 [ 80%]  (Sampling)\n",
      "Iteration: 1800 / 2000 [ 90%]  (Sampling)\n",
      "Iteration: 2000 / 2000 [100%]  (Sampling)\n",
      "\n",
      " Elapsed Time: 0.086572 seconds (Warm-up)\n",
      "               0.057787 seconds (Sampling)\n",
      "               0.144359 seconds (Total)\n",
      "\n",
      "\n",
      "SAMPLING FOR MODEL 'model4-5' NOW (CHAIN 3).\n",
      "\n",
      "Gradient evaluation took 7e-06 seconds\n",
      "1000 transitions using 10 leapfrog steps per transition would take 0.07 seconds.\n",
      "Adjust your expectations accordingly!\n",
      "\n",
      "\n",
      "Iteration:    1 / 2000 [  0%]  (Warmup)\n",
      "Iteration:  200 / 2000 [ 10%]  (Warmup)\n",
      "Iteration:  400 / 2000 [ 20%]  (Warmup)\n",
      "Iteration:  600 / 2000 [ 30%]  (Warmup)\n",
      "Iteration:  800 / 2000 [ 40%]  (Warmup)\n",
      "Iteration: 1000 / 2000 [ 50%]  (Warmup)\n",
      "Iteration: 1001 / 2000 [ 50%]  (Sampling)\n",
      "Iteration: 1200 / 2000 [ 60%]  (Sampling)\n",
      "Iteration: 1400 / 2000 [ 70%]  (Sampling)\n",
      "Iteration: 1600 / 2000 [ 80%]  (Sampling)\n",
      "Iteration: 1800 / 2000 [ 90%]  (Sampling)\n",
      "Iteration: 2000 / 2000 [100%]  (Sampling)\n",
      "\n",
      " Elapsed Time: 0.094637 seconds (Warm-up)\n",
      "               0.058355 seconds (Sampling)\n",
      "               0.152992 seconds (Total)\n",
      "\n",
      "\n",
      "SAMPLING FOR MODEL 'model4-5' NOW (CHAIN 4).\n",
      "\n",
      "Gradient evaluation took 4e-06 seconds\n",
      "1000 transitions using 10 leapfrog steps per transition would take 0.04 seconds.\n",
      "Adjust your expectations accordingly!\n",
      "\n",
      "\n",
      "Iteration:    1 / 2000 [  0%]  (Warmup)\n",
      "Iteration:  200 / 2000 [ 10%]  (Warmup)\n",
      "Iteration:  400 / 2000 [ 20%]  (Warmup)\n",
      "Iteration:  600 / 2000 [ 30%]  (Warmup)\n",
      "Iteration:  800 / 2000 [ 40%]  (Warmup)\n",
      "Iteration: 1000 / 2000 [ 50%]  (Warmup)\n",
      "Iteration: 1001 / 2000 [ 50%]  (Sampling)\n",
      "Iteration: 1200 / 2000 [ 60%]  (Sampling)\n",
      "Iteration: 1400 / 2000 [ 70%]  (Sampling)\n",
      "Iteration: 1600 / 2000 [ 80%]  (Sampling)\n",
      "Iteration: 1800 / 2000 [ 90%]  (Sampling)\n",
      "Iteration: 2000 / 2000 [100%]  (Sampling)\n",
      "\n",
      " Elapsed Time: 0.092096 seconds (Warm-up)\n",
      "               0.049935 seconds (Sampling)\n",
      "               0.142031 seconds (Total)\n",
      "\n"
     ]
    }
   ],
   "source": [
    "# run-model4-5.R\n",
    "library(rstan)\n",
    "\n",
    "d <- read.csv(file='input/data-salary.txt')\n",
    "data <- list(N=nrow(d), X=d$X, Y=d$Y) # stanに渡すデータを名前付きリストとして作成\n",
    "fit <- stan(file='model/model4-5.stan', data=data, seed=1234) # モデルファイルとデータを渡して実行\n",
    "# stan関数は内部でモデルファイルをコンパイルし(stan_model)、その後サンプリングを実行している(sampling)\n",
    "\n",
    "# あとでdとfitを使用するために保存。R標準の機能\n",
    "save.image(file='output/result-model4-5.RData')"
   ]
  },
  {
   "cell_type": "code",
   "execution_count": 6,
   "metadata": {},
   "outputs": [
    {
     "data": {
      "text/html": [
       "<dl>\n",
       "\t<dt>$N</dt>\n",
       "\t\t<dd>20</dd>\n",
       "\t<dt>$X</dt>\n",
       "\t\t<dd><ol class=list-inline>\n",
       "\t<li>24</li>\n",
       "\t<li>24</li>\n",
       "\t<li>26</li>\n",
       "\t<li>32</li>\n",
       "\t<li>33</li>\n",
       "\t<li>35</li>\n",
       "\t<li>38</li>\n",
       "\t<li>40</li>\n",
       "\t<li>40</li>\n",
       "\t<li>43</li>\n",
       "\t<li>43</li>\n",
       "\t<li>44</li>\n",
       "\t<li>48</li>\n",
       "\t<li>52</li>\n",
       "\t<li>56</li>\n",
       "\t<li>56</li>\n",
       "\t<li>57</li>\n",
       "\t<li>58</li>\n",
       "\t<li>59</li>\n",
       "\t<li>59</li>\n",
       "</ol>\n",
       "</dd>\n",
       "\t<dt>$Y</dt>\n",
       "\t\t<dd><ol class=list-inline>\n",
       "\t<li>472</li>\n",
       "\t<li>403</li>\n",
       "\t<li>454</li>\n",
       "\t<li>575</li>\n",
       "\t<li>546</li>\n",
       "\t<li>781</li>\n",
       "\t<li>750</li>\n",
       "\t<li>601</li>\n",
       "\t<li>814</li>\n",
       "\t<li>792</li>\n",
       "\t<li>745</li>\n",
       "\t<li>837</li>\n",
       "\t<li>868</li>\n",
       "\t<li>988</li>\n",
       "\t<li>1092</li>\n",
       "\t<li>1007</li>\n",
       "\t<li>1233</li>\n",
       "\t<li>1202</li>\n",
       "\t<li>1123</li>\n",
       "\t<li>1314</li>\n",
       "</ol>\n",
       "</dd>\n",
       "</dl>\n"
      ],
      "text/latex": [
       "\\begin{description}\n",
       "\\item[\\$N] 20\n",
       "\\item[\\$X] \\begin{enumerate*}\n",
       "\\item 24\n",
       "\\item 24\n",
       "\\item 26\n",
       "\\item 32\n",
       "\\item 33\n",
       "\\item 35\n",
       "\\item 38\n",
       "\\item 40\n",
       "\\item 40\n",
       "\\item 43\n",
       "\\item 43\n",
       "\\item 44\n",
       "\\item 48\n",
       "\\item 52\n",
       "\\item 56\n",
       "\\item 56\n",
       "\\item 57\n",
       "\\item 58\n",
       "\\item 59\n",
       "\\item 59\n",
       "\\end{enumerate*}\n",
       "\n",
       "\\item[\\$Y] \\begin{enumerate*}\n",
       "\\item 472\n",
       "\\item 403\n",
       "\\item 454\n",
       "\\item 575\n",
       "\\item 546\n",
       "\\item 781\n",
       "\\item 750\n",
       "\\item 601\n",
       "\\item 814\n",
       "\\item 792\n",
       "\\item 745\n",
       "\\item 837\n",
       "\\item 868\n",
       "\\item 988\n",
       "\\item 1092\n",
       "\\item 1007\n",
       "\\item 1233\n",
       "\\item 1202\n",
       "\\item 1123\n",
       "\\item 1314\n",
       "\\end{enumerate*}\n",
       "\n",
       "\\end{description}\n"
      ],
      "text/markdown": [
       "$N\n",
       ":   20\n",
       "$X\n",
       ":   1. 24\n",
       "2. 24\n",
       "3. 26\n",
       "4. 32\n",
       "5. 33\n",
       "6. 35\n",
       "7. 38\n",
       "8. 40\n",
       "9. 40\n",
       "10. 43\n",
       "11. 43\n",
       "12. 44\n",
       "13. 48\n",
       "14. 52\n",
       "15. 56\n",
       "16. 56\n",
       "17. 57\n",
       "18. 58\n",
       "19. 59\n",
       "20. 59\n",
       "\n",
       "\n",
       "\n",
       "$Y\n",
       ":   1. 472\n",
       "2. 403\n",
       "3. 454\n",
       "4. 575\n",
       "5. 546\n",
       "6. 781\n",
       "7. 750\n",
       "8. 601\n",
       "9. 814\n",
       "10. 792\n",
       "11. 745\n",
       "12. 837\n",
       "13. 868\n",
       "14. 988\n",
       "15. 1092\n",
       "16. 1007\n",
       "17. 1233\n",
       "18. 1202\n",
       "19. 1123\n",
       "20. 1314\n",
       "\n",
       "\n",
       "\n",
       "\n",
       "\n"
      ],
      "text/plain": [
       "$N\n",
       "[1] 20\n",
       "\n",
       "$X\n",
       " [1] 24 24 26 32 33 35 38 40 40 43 43 44 48 52 56 56 57 58 59 59\n",
       "\n",
       "$Y\n",
       " [1]  472  403  454  575  546  781  750  601  814  792  745  837  868  988 1092\n",
       "[16] 1007 1233 1202 1123 1314\n"
      ]
     },
     "metadata": {},
     "output_type": "display_data"
    },
    {
     "data": {
      "text/plain": [
       "Inference for Stan model: model4-5.\n",
       "4 chains, each with iter=2000; warmup=1000; thin=1; \n",
       "post-warmup draws per chain=1000, total post-warmup draws=4000.\n",
       "\n",
       "         mean se_mean    sd    2.5%     25%     50%    75%  97.5% n_eff Rhat\n",
       "a     -124.19    2.24 73.83 -270.62 -173.33 -125.17 -74.17  20.01  1085 1.01\n",
       "b       22.01    0.05  1.65   18.86   20.88   22.00  23.09  25.25  1299 1.01\n",
       "sigma   84.64    0.42 15.31   60.75   73.66   83.09  93.21 117.33  1342 1.00\n",
       "lp__   -93.62    0.04  1.28  -96.78  -94.21  -93.32 -92.70 -92.17  1048 1.01\n",
       "\n",
       "Samples were drawn using NUTS(diag_e) at Sat Nov 25 15:52:23 2017.\n",
       "For each parameter, n_eff is a crude measure of effective sample size,\n",
       "and Rhat is the potential scale reduction factor on split chains (at \n",
       "convergence, Rhat=1)."
      ]
     },
     "metadata": {},
     "output_type": "display_data"
    }
   ],
   "source": [
    "data\n",
    "fit"
   ]
  },
  {
   "cell_type": "code",
   "execution_count": 7,
   "metadata": {},
   "outputs": [
    {
     "data": {
      "text/html": [
       "<table>\n",
       "<thead><tr><th></th><th scope=col>mean</th><th scope=col>se_mean</th><th scope=col>sd</th><th scope=col>2.5%</th><th scope=col>25%</th><th scope=col>50%</th><th scope=col>75%</th><th scope=col>97.5%</th><th scope=col>n_eff</th><th scope=col>Rhat</th></tr></thead>\n",
       "<tbody>\n",
       "\t<tr><th scope=row>a</th><td>-124.19266</td><td>2.24178810</td><td>73.830680 </td><td>-270.62117</td><td>-173.32885</td><td>-125.16628</td><td>-74.16765 </td><td> 20.01005 </td><td>1084.638  </td><td>1.005302  </td></tr>\n",
       "\t<tr><th scope=row>b</th><td>  22.00712</td><td>0.04568019</td><td> 1.646096 </td><td>  18.86184</td><td>  20.88007</td><td>  22.00278</td><td> 23.09480 </td><td> 25.25032 </td><td>1298.538  </td><td>1.005512  </td></tr>\n",
       "\t<tr><th scope=row>sigma</th><td>  84.63697</td><td>0.41783045</td><td>15.305953 </td><td>  60.75277</td><td>  73.65558</td><td>  83.08910</td><td> 93.20623 </td><td>117.33481 </td><td>1341.901  </td><td>1.002162  </td></tr>\n",
       "\t<tr><th scope=row>lp__</th><td> -93.62346</td><td>0.03942713</td><td> 1.276383 </td><td> -96.78343</td><td> -94.21049</td><td> -93.32177</td><td>-92.70437 </td><td>-92.16576 </td><td>1048.024  </td><td>1.005373  </td></tr>\n",
       "</tbody>\n",
       "</table>\n"
      ],
      "text/latex": [
       "\\begin{tabular}{r|llllllllll}\n",
       "  & mean & se\\_mean & sd & 2.5\\% & 25\\% & 50\\% & 75\\% & 97.5\\% & n\\_eff & Rhat\\\\\n",
       "\\hline\n",
       "\ta & -124.19266 & 2.24178810 & 73.830680  & -270.62117 & -173.32885 & -125.16628 & -74.16765  &  20.01005  & 1084.638   & 1.005302  \\\\\n",
       "\tb &   22.00712 & 0.04568019 &  1.646096  &   18.86184 &   20.88007 &   22.00278 &  23.09480  &  25.25032  & 1298.538   & 1.005512  \\\\\n",
       "\tsigma &   84.63697 & 0.41783045 & 15.305953  &   60.75277 &   73.65558 &   83.08910 &  93.20623  & 117.33481  & 1341.901   & 1.002162  \\\\\n",
       "\tlp\\_\\_ &  -93.62346 & 0.03942713 &  1.276383  &  -96.78343 &  -94.21049 &  -93.32177 & -92.70437  & -92.16576  & 1048.024   & 1.005373  \\\\\n",
       "\\end{tabular}\n"
      ],
      "text/markdown": [
       "\n",
       "| <!--/--> | mean | se_mean | sd | 2.5% | 25% | 50% | 75% | 97.5% | n_eff | Rhat | \n",
       "|---|---|---|---|\n",
       "| a | -124.19266 | 2.24178810 | 73.830680  | -270.62117 | -173.32885 | -125.16628 | -74.16765  |  20.01005  | 1084.638   | 1.005302   | \n",
       "| b |   22.00712 | 0.04568019 |  1.646096  |   18.86184 |   20.88007 |   22.00278 |  23.09480  |  25.25032  | 1298.538   | 1.005512   | \n",
       "| sigma |   84.63697 | 0.41783045 | 15.305953  |   60.75277 |   73.65558 |   83.08910 |  93.20623  | 117.33481  | 1341.901   | 1.002162   | \n",
       "| lp__ |  -93.62346 | 0.03942713 |  1.276383  |  -96.78343 |  -94.21049 |  -93.32177 | -92.70437  | -92.16576  | 1048.024   | 1.005373   | \n",
       "\n",
       "\n"
      ],
      "text/plain": [
       "      mean       se_mean    sd        2.5%       25%        50%       \n",
       "a     -124.19266 2.24178810 73.830680 -270.62117 -173.32885 -125.16628\n",
       "b       22.00712 0.04568019  1.646096   18.86184   20.88007   22.00278\n",
       "sigma   84.63697 0.41783045 15.305953   60.75277   73.65558   83.08910\n",
       "lp__   -93.62346 0.03942713  1.276383  -96.78343  -94.21049  -93.32177\n",
       "      75%       97.5%     n_eff    Rhat    \n",
       "a     -74.16765  20.01005 1084.638 1.005302\n",
       "b      23.09480  25.25032 1298.538 1.005512\n",
       "sigma  93.20623 117.33481 1341.901 1.002162\n",
       "lp__  -92.70437 -92.16576 1048.024 1.005373"
      ]
     },
     "metadata": {},
     "output_type": "display_data"
    }
   ],
   "source": [
    "summary(fit)$summary"
   ]
  },
  {
   "cell_type": "code",
   "execution_count": 8,
   "metadata": {},
   "outputs": [
    {
     "name": "stderr",
     "output_type": "stream",
     "text": [
      "Loading required package: dplyr\n",
      "\n",
      "Attaching package: ‘dplyr’\n",
      "\n",
      "The following objects are masked from ‘package:stats’:\n",
      "\n",
      "    filter, lag\n",
      "\n",
      "The following objects are masked from ‘package:base’:\n",
      "\n",
      "    intersect, setdiff, setequal, union\n",
      "\n",
      "Loading required package: tidyr\n",
      "\n",
      "Attaching package: ‘tidyr’\n",
      "\n",
      "The following object is masked from ‘package:rstan’:\n",
      "\n",
      "    extract\n",
      "\n"
     ]
    },
    {
     "name": "stdout",
     "output_type": "stream",
     "text": [
      "Plotting traceplots\n",
      "Time taken to generate the report: 1 seconds.\n",
      "Plotting histograms\n",
      "Plotting density plots\n",
      "Plotting traceplots\n",
      "Plotting running means\n",
      "Plotting comparison of partial and full chain\n",
      "Plotting autocorrelation plots\n",
      "Plotting crosscorrelation plot\n",
      "Plotting Potential Scale Reduction Factors\n",
      "Plotting Geweke Diagnostic\n",
      "Plotting caterpillar plot\n",
      "Time taken to generate the report: 4.7 seconds.\n"
     ]
    }
   ],
   "source": [
    "# rstan-save-diagnostics.R\n",
    "library(ggmcmc) # ggplot2を利用した、MCMCの収束を診断するためのpackage\n",
    "\n",
    "load('output/result-model4-5.RData')\n",
    "\n",
    "# fitの要約を保存\n",
    "write.table(data.frame(summary(fit)$summary),\n",
    "  file='output/fit-summary.txt', sep='\\t', quote=FALSE, col.names=NA)\n",
    "\n",
    "# fitをもとにtrace plotを出力(pdf)\n",
    "ggmcmc(ggs(fit, inc_warmup=TRUE, stan_include_auxiliar=TRUE),\n",
    "  file='output/fit-traceplot.pdf', plot='traceplot')\n",
    "\n",
    "ggmcmc(ggs(fit), file='output/fit-ggmcmc.pdf')\n",
    "# 出力を一部に限定するには以下のようにする\n",
    "# ggmcmc(ggs(fit), file='output/fit-ggmcmc.pdf',\n",
    "#   plot=c('traceplot', 'density', 'running', 'autocorrelation'))"
   ]
  },
  {
   "cell_type": "markdown",
   "metadata": {},
   "source": [
    "### MCMCの設定の変更"
   ]
  },
  {
   "cell_type": "code",
   "execution_count": 9,
   "metadata": {},
   "outputs": [
    {
     "name": "stdout",
     "output_type": "stream",
     "text": [
      "\n",
      "SAMPLING FOR MODEL 'model4-5' NOW (CHAIN 1).\n",
      "\n",
      "Gradient evaluation took 2.6e-05 seconds\n",
      "1000 transitions using 10 leapfrog steps per transition would take 0.26 seconds.\n",
      "Adjust your expectations accordingly!\n",
      "\n",
      "\n",
      "Iteration:   1 / 1000 [  0%]  (Warmup)\n",
      "Iteration: 100 / 1000 [ 10%]  (Warmup)\n",
      "Iteration: 200 / 1000 [ 20%]  (Warmup)\n",
      "Iteration: 201 / 1000 [ 20%]  (Sampling)\n",
      "Iteration: 300 / 1000 [ 30%]  (Sampling)\n",
      "Iteration: 400 / 1000 [ 40%]  (Sampling)\n",
      "Iteration: 500 / 1000 [ 50%]  (Sampling)\n",
      "Iteration: 600 / 1000 [ 60%]  (Sampling)\n",
      "Iteration: 700 / 1000 [ 70%]  (Sampling)\n",
      "Iteration: 800 / 1000 [ 80%]  (Sampling)\n",
      "Iteration: 900 / 1000 [ 90%]  (Sampling)\n",
      "Iteration: 1000 / 1000 [100%]  (Sampling)\n",
      "\n",
      " Elapsed Time: 0.059597 seconds (Warm-up)\n",
      "               0.043703 seconds (Sampling)\n",
      "               0.1033 seconds (Total)\n",
      "\n",
      "\n",
      "SAMPLING FOR MODEL 'model4-5' NOW (CHAIN 2).\n",
      "\n",
      "Gradient evaluation took 6e-06 seconds\n",
      "1000 transitions using 10 leapfrog steps per transition would take 0.06 seconds.\n",
      "Adjust your expectations accordingly!\n",
      "\n",
      "\n",
      "Iteration:   1 / 1000 [  0%]  (Warmup)\n",
      "Iteration: 100 / 1000 [ 10%]  (Warmup)\n",
      "Iteration: 200 / 1000 [ 20%]  (Warmup)\n",
      "Iteration: 201 / 1000 [ 20%]  (Sampling)\n",
      "Iteration: 300 / 1000 [ 30%]  (Sampling)\n",
      "Iteration: 400 / 1000 [ 40%]  (Sampling)\n",
      "Iteration: 500 / 1000 [ 50%]  (Sampling)\n",
      "Iteration: 600 / 1000 [ 60%]  (Sampling)\n",
      "Iteration: 700 / 1000 [ 70%]  (Sampling)\n",
      "Iteration: 800 / 1000 [ 80%]  (Sampling)\n",
      "Iteration: 900 / 1000 [ 90%]  (Sampling)\n",
      "Iteration: 1000 / 1000 [100%]  (Sampling)\n",
      "\n",
      " Elapsed Time: 0.055964 seconds (Warm-up)\n",
      "               0.04624 seconds (Sampling)\n",
      "               0.102204 seconds (Total)\n",
      "\n",
      "\n",
      "SAMPLING FOR MODEL 'model4-5' NOW (CHAIN 3).\n",
      "\n",
      "Gradient evaluation took 5e-06 seconds\n",
      "1000 transitions using 10 leapfrog steps per transition would take 0.05 seconds.\n",
      "Adjust your expectations accordingly!\n",
      "\n",
      "\n",
      "Iteration:   1 / 1000 [  0%]  (Warmup)\n",
      "Iteration: 100 / 1000 [ 10%]  (Warmup)\n",
      "Iteration: 200 / 1000 [ 20%]  (Warmup)\n",
      "Iteration: 201 / 1000 [ 20%]  (Sampling)\n",
      "Iteration: 300 / 1000 [ 30%]  (Sampling)\n",
      "Iteration: 400 / 1000 [ 40%]  (Sampling)\n",
      "Iteration: 500 / 1000 [ 50%]  (Sampling)\n",
      "Iteration: 600 / 1000 [ 60%]  (Sampling)\n",
      "Iteration: 700 / 1000 [ 70%]  (Sampling)\n",
      "Iteration: 800 / 1000 [ 80%]  (Sampling)\n",
      "Iteration: 900 / 1000 [ 90%]  (Sampling)\n",
      "Iteration: 1000 / 1000 [100%]  (Sampling)\n",
      "\n",
      " Elapsed Time: 0.05396 seconds (Warm-up)\n",
      "               0.044995 seconds (Sampling)\n",
      "               0.098955 seconds (Total)\n",
      "\n"
     ]
    }
   ],
   "source": [
    "# rstan-modify-MCMCsettings.R\n",
    "# stan関数を以下のようにstan_model とsamplingに分けることができる\n",
    "\n",
    "stanmodel <- stan_model(file='model/model4-5.stan') # モデルファイルをコンパイル\n",
    "\n",
    "fit <- sampling(\n",
    "  stanmodel,\n",
    "  data=data,\n",
    "  pars=c('b', 'sigma'),# 保存する変数を限定できる\n",
    "  init=function() {\n",
    "    list(a=runif(1,-10,10), b=runif(1,0,10), sigma=10) # 初期値の設定\n",
    "  },\n",
    "  seed=123, # 乱数のseed: 解析の再現性のため\n",
    "  chains=3, iter=1000, warmup=200, thin=2\n",
    "  # chains: 最低3, 4以上を推奨\n",
    "  # iter: 試行錯誤は500~1000ぐらい、モデルがきまったら1000~5000ぐらい\n",
    "  # warmup: trace plotを見て決める\n",
    "  # thin: 通常1でok. trace plotがあるパラメータで急激に大きくなったり小さくなったりする場合は5などにして自己相関を減らし、収束がよくなることがある\n",
    ")"
   ]
  },
  {
   "cell_type": "markdown",
   "metadata": {},
   "source": [
    "### 並列計算の実行方法\n",
    "MCMCはchainごとに独立している。並列化するとサンプリングの進捗状況やエラーメッセージが確認できなくなるので、並列化なしでうまくいくのを確認した上で並列化するのが良い。"
   ]
  },
  {
   "cell_type": "code",
   "execution_count": 10,
   "metadata": {},
   "outputs": [],
   "source": [
    "rstan_options(auto_write=TRUE) # 再コンパイルせずに済むようにコンパイル後のモデルファイルを保存\n",
    "options(mc.cores=parallel::detectCores()) # 複数のchainを並列で計算"
   ]
  },
  {
   "cell_type": "markdown",
   "metadata": {},
   "source": [
    "### ベイズ信頼区間とベイズ予測区間の算出\n",
    "- ベイズ信頼区間：パラメータの事後分布の両端から$\\alpha %$の面積を切り捨てた区間が$(1-\\alpha) %$ベイズ信頼区間\n",
    "- ベイズ予測区間：ベイズ推定で求めた予測分布（パラメータの事後分布で重み付けしたデータの分布）から算出した予測区間\n",
    "\n",
    "基本年収のベイズ信頼区間と年収のベイズ予測区間をStanの結果から計算する"
   ]
  },
  {
   "cell_type": "code",
   "execution_count": 11,
   "metadata": {},
   "outputs": [],
   "source": [
    "# rstan-extract-MCMCsamples.R (1)\n",
    "\n",
    "# MCMCサンプルを読み出す\n",
    "load('output/result-model4-5.RData')\n",
    "ms <- rstan::extract(fit) # extract()は他のパッケージにも存在するので名前空間を指定"
   ]
  },
  {
   "cell_type": "code",
   "execution_count": 12,
   "metadata": {},
   "outputs": [
    {
     "data": {
      "text/html": [
       "<dl class=dl-horizontal>\n",
       "\t<dt>2.5%</dt>\n",
       "\t\t<dd>18.8618407737602</dd>\n",
       "\t<dt>97.5%</dt>\n",
       "\t\t<dd>25.2503175323824</dd>\n",
       "</dl>\n"
      ],
      "text/latex": [
       "\\begin{description*}\n",
       "\\item[2.5\\textbackslash{}\\%] 18.8618407737602\n",
       "\\item[97.5\\textbackslash{}\\%] 25.2503175323824\n",
       "\\end{description*}\n"
      ],
      "text/markdown": [
       "2.5%\n",
       ":   18.861840773760297.5%\n",
       ":   25.2503175323824\n",
       "\n"
      ],
      "text/plain": [
       "    2.5%    97.5% \n",
       "18.86184 25.25032 "
      ]
     },
     "metadata": {},
     "output_type": "display_data"
    }
   ],
   "source": [
    "quantile(ms$b, probs=c(0.025, 0.975)) # ms$bは数値arrayなのでquantileで簡単に95%区間を求めることができる"
   ]
  },
  {
   "cell_type": "markdown",
   "metadata": {},
   "source": [
    "MCMCサンプルは事後分布からサンプリングしたもので、各パラメータの同時分布になっている。\n",
    "\n",
    "散布図を書いてパラメータの相関を見てみる"
   ]
  },
  {
   "cell_type": "code",
   "execution_count": 13,
   "metadata": {},
   "outputs": [
    {
     "name": "stderr",
     "output_type": "stream",
     "text": [
      "`stat_bin()` using `bins = 30`. Pick better value with `binwidth`.\n",
      "Warning message:\n",
      "“Removed 1 rows containing missing values (geom_bar).”`stat_bin()` using `bins = 30`. Pick better value with `binwidth`.\n"
     ]
    },
    {
     "data": {
      "text/html": [
       "<strong>pdf:</strong> 2"
      ],
      "text/latex": [
       "\\textbf{pdf:} 2"
      ],
      "text/markdown": [
       "**pdf:** 2"
      ],
      "text/plain": [
       "pdf \n",
       "  2 "
      ]
     },
     "metadata": {},
     "output_type": "display_data"
    }
   ],
   "source": [
    "# fig4-7.R\n",
    "library(ggplot2)\n",
    "source('../common.R')\n",
    "\n",
    "load('output/result-model4-5.RData')\n",
    "ms <- rstan::extract(fit)\n",
    "df_mcmc <- data.frame(a=ms$a, b=ms$b, sigma=ms$sigma)\n",
    "\n",
    "p_xy <- ggplot(df_mcmc,aes(x=a,y=b)) +\n",
    "  my_theme() +\n",
    "  geom_point(alpha=1/4, size=2, shape=1) +\n",
    "  scale_x_continuous(breaks=seq(-400, 200, 200), limits=c(-420, 210)) +\n",
    "  scale_y_continuous(breaks=seq(15, 25, 5), limits=c(14.5, 29))\n",
    "\n",
    "p_x <- ggplot(df_mcmc, aes(x=a)) +\n",
    "  my_theme0() +\n",
    "  geom_histogram(aes(y=..density..), colour='black', fill='white') +\n",
    "  geom_density(alpha=0.3, fill='gray20') +\n",
    "  scale_x_continuous(breaks=seq(-400, 200, 200), limits=c(-420, 210)) +\n",
    "  labs(x='', y='')\n",
    "\n",
    "p_y <- ggplot(df_mcmc, aes(x=b)) +\n",
    "  my_theme0() +\n",
    "  coord_flip() +\n",
    "  geom_histogram(aes(y=..density..), colour='black', fill='white') +\n",
    "  geom_density(alpha=0.3, fill='gray20') +\n",
    "  scale_x_continuous(breaks=seq(15, 25, 5), limits=c(14.5, 29)) +\n",
    "  labs(x='', y='')\n",
    "\n",
    "p_emp <- ggplot(data.frame(0,0)) + theme_bw() + theme(rect=element_rect(fill='white'), panel.border=element_blank())\n",
    "\n",
    "g_xy <- ggplotGrob(p_xy)\n",
    "g_x <- ggplotGrob(p_x)\n",
    "g_y <- ggplotGrob(p_y)\n",
    "g_emp <- ggplotGrob(p_emp)\n",
    "\n",
    "g1 <- cbind(g_x, g_emp, size='first')\n",
    "g2 <- cbind(g_xy, g_y, size='first')\n",
    "g <- rbind(g1, g2, size='first')\n",
    "g$widths[1:3] <- grid::unit.pmax(g1$widths[1:3], g2$widths[1:3])\n",
    "g$heights[7:12] <- g$widths[5:10] <- rep(unit(0.5,'mm'), 6)\n",
    "g$heights[6] <- g$widths[11] <- unit(3,'cm')\n",
    "\n",
    "png(file='output/fig4-7.png', res=300, w=1800, h=1800)\n",
    "grid::grid.draw(g)\n",
    "dev.off()"
   ]
  },
  {
   "cell_type": "markdown",
   "metadata": {},
   "source": [
    "<img width=\"400\" src=\"./output/fig4-7.png\">"
   ]
  },
  {
   "cell_type": "markdown",
   "metadata": {},
   "source": [
    "同時分布を踏まえて50歳の人の基本年収の分布と年収の予測分布を作成"
   ]
  },
  {
   "cell_type": "code",
   "execution_count": 14,
   "metadata": {},
   "outputs": [],
   "source": [
    "# # rstan-extract-MCMCsamples.R (2)\n",
    "N_mcmc <- length(ms$lp__) # MCMCサンプルの長さ\n",
    "y50_base <- ms$a + ms$b * 50 # 50歳の人の基本年収の分布からのMCMCサンプル\n",
    "y50 <- rnorm(n=N_mcmc, mean=y50_base, sd=ms$sigma) # モデル式に従って正規分布に従う乱数を発生させ、年収の予測分布からのMCMCサンプルを作成\n",
    "d_mcmc <- data.frame(a=ms$a, b=ms$b, sigma=ms$sigma, y50_base, y50) # データフレームを作成"
   ]
  },
  {
   "cell_type": "code",
   "execution_count": 15,
   "metadata": {},
   "outputs": [
    {
     "data": {
      "text/html": [
       "<dl class=dl-horizontal>\n",
       "\t<dt>2.5%</dt>\n",
       "\t\t<dd>933.22293604268</dd>\n",
       "\t<dt>97.5%</dt>\n",
       "\t\t<dd>1019.91799027546</dd>\n",
       "</dl>\n"
      ],
      "text/latex": [
       "\\begin{description*}\n",
       "\\item[2.5\\textbackslash{}\\%] 933.22293604268\n",
       "\\item[97.5\\textbackslash{}\\%] 1019.91799027546\n",
       "\\end{description*}\n"
      ],
      "text/markdown": [
       "2.5%\n",
       ":   933.2229360426897.5%\n",
       ":   1019.91799027546\n",
       "\n"
      ],
      "text/plain": [
       "     2.5%     97.5% \n",
       " 933.2229 1019.9180 "
      ]
     },
     "metadata": {},
     "output_type": "display_data"
    },
    {
     "data": {
      "text/html": [
       "<dl class=dl-horizontal>\n",
       "\t<dt>2.5%</dt>\n",
       "\t\t<dd>790.692744723464</dd>\n",
       "\t<dt>97.5%</dt>\n",
       "\t\t<dd>1147.06353614318</dd>\n",
       "</dl>\n"
      ],
      "text/latex": [
       "\\begin{description*}\n",
       "\\item[2.5\\textbackslash{}\\%] 790.692744723464\n",
       "\\item[97.5\\textbackslash{}\\%] 1147.06353614318\n",
       "\\end{description*}\n"
      ],
      "text/markdown": [
       "2.5%\n",
       ":   790.69274472346497.5%\n",
       ":   1147.06353614318\n",
       "\n"
      ],
      "text/plain": [
       "     2.5%     97.5% \n",
       " 790.6927 1147.0635 "
      ]
     },
     "metadata": {},
     "output_type": "display_data"
    }
   ],
   "source": [
    "quantile(d_mcmc$y50_base, probs=c(0.025, 0.975))\n",
    "quantile(d_mcmc$y50, probs=c(0.025, 0.975))"
   ]
  },
  {
   "cell_type": "markdown",
   "metadata": {},
   "source": [
    "上記を50歳以外の各年齢について行い、基本年収のベイズ信頼区間と年収のベイズ予測区間をプロットする。\n",
    "\n",
    "Rのlmを使用した時とほぼ同じになっていることに注目！"
   ]
  },
  {
   "cell_type": "code",
   "execution_count": 16,
   "metadata": {},
   "outputs": [],
   "source": [
    "# fig4-8.R\n",
    "library(ggplot2)\n",
    "source('../common.R')\n",
    "\n",
    "load('output/result-model4-5.RData')\n",
    "ms <- rstan::extract(fit)\n",
    "\n",
    "X_new <- 23:60\n",
    "N_X <- length(X_new)\n",
    "N_mcmc <- length(ms$lp__)\n",
    "\n",
    "set.seed(1234)\n",
    "y_base_mcmc <- as.data.frame(matrix(nrow=N_mcmc, ncol=N_X))\n",
    "y_mcmc <- as.data.frame(matrix(nrow=N_mcmc, ncol=N_X))\n",
    "for (i in 1:N_X) {\n",
    "  y_base_mcmc[,i] <- ms$a + ms$b * X_new[i]\n",
    "  y_mcmc[,i] <- rnorm(n=N_mcmc, mean=y_base_mcmc[,i], sd=ms$sigma)\n",
    "}\n",
    "\n",
    "customize.ggplot.axis <- function(p) {\n",
    "  p <- p + labs(x='X', y='Y')\n",
    "  p <- p + scale_y_continuous(breaks=seq(from=200, to=1400, by=400))\n",
    "  p <- p + coord_cartesian(xlim=c(22, 61), ylim=c(200, 1400))\n",
    "  return(p)\n",
    "}\n",
    "\n",
    "d_est <- data.frame.quantile.mcmc(x=X_new, y_mcmc=y_base_mcmc)\n",
    "p <- ggplot.5quantile(data=d_est)\n",
    "p <- p + geom_point(data=d, aes(x=X, y=Y), shape=1, size=3)\n",
    "p <- customize.ggplot.axis(p)\n",
    "ggsave(file='output/fig4-8-left.png', plot=p, dpi=300, w=4, h=3)\n",
    "\n",
    "d_est <- data.frame.quantile.mcmc(x=X_new, y_mcmc=y_mcmc)\n",
    "p <- ggplot.5quantile(data=d_est)\n",
    "p <- p + geom_point(data=d, aes(x=X, y=Y), shape=1, size=3)\n",
    "p <- customize.ggplot.axis(p)\n",
    "ggsave(file='output/fig4-8-right.png', plot=p, dpi=300, w=4, h=3)"
   ]
  },
  {
   "cell_type": "markdown",
   "metadata": {},
   "source": [
    "- 基本年収のベイズ信頼区間\n",
    "<img width=\"400\" src=\"./output/fig4-8-left.png\">\n",
    "- 年収のベイズ予測区間\n",
    "<img width=\"400\" src=\"./output/fig4-8-right.png\">"
   ]
  },
  {
   "cell_type": "markdown",
   "metadata": {},
   "source": [
    "### transformed parametersブロックとgenerated quantitiesブロック\n",
    "Stanで求めたMCMCサンプルを使ってRで様々な量を計算してきたが、Stan側でできるだけ処理を実行してしまいたい。\n",
    "\n",
    "transformed parametersブロックは、他にもデータやパラメータを組み合わせて新しいパラメータ変数を作る場合にも使う。\n",
    "\n",
    "修正したmodelはmodel4-4.stan参照"
   ]
  },
  {
   "cell_type": "code",
   "execution_count": 17,
   "metadata": {},
   "outputs": [],
   "source": [
    "# run-model4-4.R\n",
    "# データの読み込みから描画までをまとめて行う\n",
    "\n",
    "# データの読み込み・stanの実行\n",
    "d <- read.csv(file='input/data-salary.txt')\n",
    "X_new <- 23:60\n",
    "data <- list(N=nrow(d), X=d$X, Y=d$Y, N_new=length(X_new), X_new=X_new)\n",
    "fit <- stan(file='model/model4-4.stan', data=data, seed=1234)\n",
    "ms <- rstan::extract(fit)\n",
    "\n",
    "# 分位点を取り出す関数\n",
    "data.frame.quantile.mcmc <- function(x, y_mcmc,\n",
    "  probs=c(2.5, 25, 50, 75, 97.5)/100) {\n",
    "  qua <- apply(y_mcmc, 2, quantile, probs=probs)\n",
    "  d <- data.frame(X=x, t(qua))\n",
    "  colnames(d) <- c('X', paste0('p', probs*100))\n",
    "  return(d)\n",
    "}\n",
    "\n",
    "# 50%区間をプロットする関数\n",
    "ggplot.5quantile <- function(data) {\n",
    "  p <- ggplot(data=data, aes(x=X, y=p50))\n",
    "  p <- p + theme_bw(base_size=18)\n",
    "  p <- p + geom_ribbon(aes(ymin=p2.5, ymax=p97.5), fill='black', alpha=1/6)\n",
    "  p <- p + geom_ribbon(aes(ymin=p25, ymax=p75), fill='black', alpha=2/6)\n",
    "  p <- p + geom_line(size=1)\n",
    "  return(p)\n",
    "}\n",
    "\n",
    "# ggplotの軸をカスタマイズする関数\n",
    "customize.ggplot.axis <- function(p) {\n",
    "  p <- p + labs(x='X', y='Y')\n",
    "  p <- p + scale_y_continuous(breaks=seq(from=200, to=1400, by=400))\n",
    "  p <- p + coord_cartesian(xlim=c(22, 61), ylim=c(200, 1400))\n",
    "  return(p)\n",
    "}\n",
    "\n",
    "d_est <- data.frame.quantile.mcmc(x=X_new, y_mcmc=ms$y_base_new)\n",
    "p <- ggplot.5quantile(data=d_est)\n",
    "p <- p + geom_point(data=d, aes(x=X, y=Y), shape=1, size=3)\n",
    "p <- customize.ggplot.axis(p)\n",
    "ggsave(file='output/fig4-8-left-2.png', plot=p, dpi=300, w=4, h=3)\n",
    "\n",
    "d_est <- data.frame.quantile.mcmc(x=X_new, y_mcmc=ms$y_new)\n",
    "p <- ggplot.5quantile(data=d_est)\n",
    "p <- p + geom_point(data=d, aes(x=X, y=Y), shape=1, size=3)\n",
    "p <- customize.ggplot.axis(p)\n",
    "ggsave(file='output/fig4-8-right-2.png', plot=p, dpi=300, w=4, h=3)"
   ]
  },
  {
   "cell_type": "markdown",
   "metadata": {},
   "source": [
    "- 基本年収のベイズ信頼区間\n",
    "<img width=\"400\" src=\"./output/fig4-8-left-2.png\">\n",
    "- 年収のベイズ予測区間\n",
    "<img width=\"400\" src=\"./output/fig4-8-right-2.png\">"
   ]
  },
  {
   "cell_type": "code",
   "execution_count": 18,
   "metadata": {},
   "outputs": [
    {
     "data": {
      "text/html": [
       "<table>\n",
       "<tbody>\n",
       "\t<tr><td>281.1099</td><td>469.0363</td><td>126.4955</td><td>573.1011</td></tr>\n",
       "\t<tr><td>472.8970</td><td>370.5866</td><td>503.4453</td><td>538.7360</td></tr>\n",
       "\t<tr><td>460.3009</td><td>309.4866</td><td>297.2961</td><td>461.3674</td></tr>\n",
       "\t<tr><td>497.0330</td><td>517.5797</td><td>388.8582</td><td>601.4932</td></tr>\n",
       "\t<tr><td>387.2410</td><td>276.0752</td><td>435.1163</td><td>495.7872</td></tr>\n",
       "\t<tr><td>372.2900</td><td>461.9367</td><td>420.8332</td><td>532.4309</td></tr>\n",
       "</tbody>\n",
       "</table>\n"
      ],
      "text/latex": [
       "\\begin{tabular}{llll}\n",
       "\t 281.1099 & 469.0363 & 126.4955 & 573.1011\\\\\n",
       "\t 472.8970 & 370.5866 & 503.4453 & 538.7360\\\\\n",
       "\t 460.3009 & 309.4866 & 297.2961 & 461.3674\\\\\n",
       "\t 497.0330 & 517.5797 & 388.8582 & 601.4932\\\\\n",
       "\t 387.2410 & 276.0752 & 435.1163 & 495.7872\\\\\n",
       "\t 372.2900 & 461.9367 & 420.8332 & 532.4309\\\\\n",
       "\\end{tabular}\n"
      ],
      "text/markdown": [
       "\n",
       "| 281.1099 | 469.0363 | 126.4955 | 573.1011 | \n",
       "| 472.8970 | 370.5866 | 503.4453 | 538.7360 | \n",
       "| 460.3009 | 309.4866 | 297.2961 | 461.3674 | \n",
       "| 497.0330 | 517.5797 | 388.8582 | 601.4932 | \n",
       "| 387.2410 | 276.0752 | 435.1163 | 495.7872 | \n",
       "| 372.2900 | 461.9367 | 420.8332 | 532.4309 | \n",
       "\n",
       "\n"
      ],
      "text/plain": [
       "          \n",
       "iterations [,1]     [,2]     [,3]     [,4]    \n",
       "      [1,] 281.1099 469.0363 126.4955 573.1011\n",
       "      [2,] 472.8970 370.5866 503.4453 538.7360\n",
       "      [3,] 460.3009 309.4866 297.2961 461.3674\n",
       "      [4,] 497.0330 517.5797 388.8582 601.4932\n",
       "      [5,] 387.2410 276.0752 435.1163 495.7872\n",
       "      [6,] 372.2900 461.9367 420.8332 532.4309"
      ]
     },
     "metadata": {},
     "output_type": "display_data"
    }
   ],
   "source": [
    "head(ms$y_new[,1:4]) # ms$y_newは [MCMCのサンプル長さ] x  [y_newの添え字23, 24, ...]"
   ]
  },
  {
   "cell_type": "markdown",
   "metadata": {},
   "source": [
    "---\n",
    "## 練習問題"
   ]
  },
  {
   "cell_type": "code",
   "execution_count": 19,
   "metadata": {},
   "outputs": [],
   "source": [
    "# generate-data.R\n",
    "set.seed(123)\n",
    "N1 <- 30\n",
    "N2 <- 20\n",
    "Y1 <- rnorm(n=N1, mean=0, sd=5)\n",
    "Y2 <- rnorm(n=N2, mean=1, sd=4)"
   ]
  },
  {
   "cell_type": "markdown",
   "metadata": {},
   "source": [
    "### (1) 図を書く"
   ]
  },
  {
   "cell_type": "code",
   "execution_count": 20,
   "metadata": {},
   "outputs": [
    {
     "data": {
      "text/html": [
       "<table>\n",
       "<thead><tr><th scope=col>group</th><th scope=col>Y</th></tr></thead>\n",
       "<tbody>\n",
       "\t<tr><td>1         </td><td>-2.8023782</td></tr>\n",
       "\t<tr><td>1         </td><td>-1.1508874</td></tr>\n",
       "\t<tr><td>1         </td><td> 7.7935416</td></tr>\n",
       "\t<tr><td>1         </td><td> 0.3525420</td></tr>\n",
       "\t<tr><td>1         </td><td> 0.6464387</td></tr>\n",
       "\t<tr><td>1         </td><td> 8.5753249</td></tr>\n",
       "</tbody>\n",
       "</table>\n"
      ],
      "text/latex": [
       "\\begin{tabular}{r|ll}\n",
       " group & Y\\\\\n",
       "\\hline\n",
       "\t 1          & -2.8023782\\\\\n",
       "\t 1          & -1.1508874\\\\\n",
       "\t 1          &  7.7935416\\\\\n",
       "\t 1          &  0.3525420\\\\\n",
       "\t 1          &  0.6464387\\\\\n",
       "\t 1          &  8.5753249\\\\\n",
       "\\end{tabular}\n"
      ],
      "text/markdown": [
       "\n",
       "group | Y | \n",
       "|---|---|---|---|---|---|\n",
       "| 1          | -2.8023782 | \n",
       "| 1          | -1.1508874 | \n",
       "| 1          |  7.7935416 | \n",
       "| 1          |  0.3525420 | \n",
       "| 1          |  0.6464387 | \n",
       "| 1          |  8.5753249 | \n",
       "\n",
       "\n"
      ],
      "text/plain": [
       "  group Y         \n",
       "1 1     -2.8023782\n",
       "2 1     -1.1508874\n",
       "3 1      7.7935416\n",
       "4 1      0.3525420\n",
       "5 1      0.6464387\n",
       "6 1      8.5753249"
      ]
     },
     "metadata": {},
     "output_type": "display_data"
    },
    {
     "data": {
      "text/html": [
       "<table>\n",
       "<thead><tr><th></th><th scope=col>group</th><th scope=col>Y</th></tr></thead>\n",
       "<tbody>\n",
       "\t<tr><th scope=row>45</th><td>2         </td><td> 5.8318480</td></tr>\n",
       "\t<tr><th scope=row>46</th><td>2         </td><td>-3.4924343</td></tr>\n",
       "\t<tr><th scope=row>47</th><td>2         </td><td>-0.6115393</td></tr>\n",
       "\t<tr><th scope=row>48</th><td>2         </td><td>-0.8666214</td></tr>\n",
       "\t<tr><th scope=row>49</th><td>2         </td><td> 4.1198605</td></tr>\n",
       "\t<tr><th scope=row>50</th><td>2         </td><td> 0.6665237</td></tr>\n",
       "</tbody>\n",
       "</table>\n"
      ],
      "text/latex": [
       "\\begin{tabular}{r|ll}\n",
       "  & group & Y\\\\\n",
       "\\hline\n",
       "\t45 & 2          &  5.8318480\\\\\n",
       "\t46 & 2          & -3.4924343\\\\\n",
       "\t47 & 2          & -0.6115393\\\\\n",
       "\t48 & 2          & -0.8666214\\\\\n",
       "\t49 & 2          &  4.1198605\\\\\n",
       "\t50 & 2          &  0.6665237\\\\\n",
       "\\end{tabular}\n"
      ],
      "text/markdown": [
       "\n",
       "| <!--/--> | group | Y | \n",
       "|---|---|---|---|---|---|\n",
       "| 45 | 2          |  5.8318480 | \n",
       "| 46 | 2          | -3.4924343 | \n",
       "| 47 | 2          | -0.6115393 | \n",
       "| 48 | 2          | -0.8666214 | \n",
       "| 49 | 2          |  4.1198605 | \n",
       "| 50 | 2          |  0.6665237 | \n",
       "\n",
       "\n"
      ],
      "text/plain": [
       "   group Y         \n",
       "45 2      5.8318480\n",
       "46 2     -3.4924343\n",
       "47 2     -0.6115393\n",
       "48 2     -0.8666214\n",
       "49 2      4.1198605\n",
       "50 2      0.6665237"
      ]
     },
     "metadata": {},
     "output_type": "display_data"
    }
   ],
   "source": [
    "# ex1.R\n",
    "d1 <- data.frame(group=1, Y=Y1)\n",
    "d2 <- data.frame(group=2, Y=Y2)\n",
    "d <- rbind(d1, d2)\n",
    "d$group <- as.factor(d$group)\n",
    "\n",
    "p <- ggplot(data=d, aes(x=group, y=Y, group=group, col=group))\n",
    "p <- p + geom_boxplot(outlier.size=0)\n",
    "p <- p + geom_point(position=position_jitter(w=0.4, h=0), size=2)\n",
    "ggsave(file='exercise/fig-ex1.png', plot=p, dpi=300, w=4, h=3)\n",
    "\n",
    "head(d)\n",
    "tail(d)"
   ]
  },
  {
   "cell_type": "markdown",
   "metadata": {},
   "source": [
    "<img width=\"400\" src=\"exercise/fig-ex1.png\"></img>"
   ]
  },
  {
   "cell_type": "markdown",
   "metadata": {},
   "source": [
    "### (2) モデル式\n",
    "$$\n",
    "Y_1[n] \\sim Normal(\\mu_1, \\sigma) \\:\\:\\: n=1, 2, ..., N_1 \\\\\n",
    "Y_2[n] \\sim Normal(\\mu_2, \\sigma) \\:\\:\\: n=1, 2, ..., N_2\n",
    "$$"
   ]
  },
  {
   "cell_type": "markdown",
   "metadata": {},
   "source": [
    "### (3) モデルファイル\n",
    "exercise/my_ex3.stan"
   ]
  },
  {
   "cell_type": "markdown",
   "metadata": {},
   "source": [
    "### (4) MCMCサンプルから$Prob[\\mu1 < \\mu2]$をR側で計算"
   ]
  },
  {
   "cell_type": "code",
   "execution_count": 21,
   "metadata": {},
   "outputs": [
    {
     "data": {
      "text/html": [
       "<dl>\n",
       "\t<dt>$N1</dt>\n",
       "\t\t<dd>30</dd>\n",
       "\t<dt>$N2</dt>\n",
       "\t\t<dd>20</dd>\n",
       "\t<dt>$Y1</dt>\n",
       "\t\t<dd><ol class=list-inline>\n",
       "\t<li>-2.80237823276106</li>\n",
       "\t<li>-1.1508874474164</li>\n",
       "\t<li>7.79354157074562</li>\n",
       "\t<li>0.35254195712288</li>\n",
       "\t<li>0.646438675804731</li>\n",
       "\t<li>8.57532493441641</li>\n",
       "\t<li>2.30458102994601</li>\n",
       "\t<li>-6.32530617303267</li>\n",
       "\t<li>-3.43426425946763</li>\n",
       "\t<li>-2.22830985049979</li>\n",
       "\t<li>6.12040898719731</li>\n",
       "\t<li>1.79906913528682</li>\n",
       "\t<li>2.00385725297026</li>\n",
       "\t<li>0.553413579725599</li>\n",
       "\t<li>-2.77920567377037</li>\n",
       "\t<li>8.93456568401539</li>\n",
       "\t<li>2.4892523911462</li>\n",
       "\t<li>-9.83308578314819</li>\n",
       "\t<li>3.50677950781843</li>\n",
       "\t<li>-2.36395703863967</li>\n",
       "\t<li>-5.33911852993423</li>\n",
       "\t<li>-1.08987457329148</li>\n",
       "\t<li>-5.1300222415362</li>\n",
       "\t<li>-3.6444561464557</li>\n",
       "\t<li>-3.12519633924628</li>\n",
       "\t<li>-8.43346655371207</li>\n",
       "\t<li>4.18893522247262</li>\n",
       "\t<li>0.766865589182576</li>\n",
       "\t<li>-5.69068468505974</li>\n",
       "\t<li>6.26907460534963</li>\n",
       "</ol>\n",
       "</dd>\n",
       "\t<dt>$Y2</dt>\n",
       "\t\t<dd><ol class=list-inline>\n",
       "\t<li>2.70585688590725</li>\n",
       "\t<li>-0.180285931969085</li>\n",
       "\t<li>4.58050264418009</li>\n",
       "\t<li>4.51253395013217</li>\n",
       "\t<li>4.28632432654995</li>\n",
       "\t<li>3.75456101640036</li>\n",
       "\t<li>3.21567061415036</li>\n",
       "\t<li>0.752353157693113</li>\n",
       "\t<li>-0.223850654959667</li>\n",
       "\t<li>-0.521884004049531</li>\n",
       "\t<li>-1.77882791568205</li>\n",
       "\t<li>0.168330887921605</li>\n",
       "\t<li>-4.06158540627306</li>\n",
       "\t<li>9.67582386135405</li>\n",
       "\t<li>5.83184799321996</li>\n",
       "\t<li>-3.4924343328134</li>\n",
       "\t<li>-0.611539341196304</li>\n",
       "\t<li>-0.866621414492875</li>\n",
       "\t<li>4.11986047334527</li>\n",
       "\t<li>0.666523734112683</li>\n",
       "</ol>\n",
       "</dd>\n",
       "</dl>\n"
      ],
      "text/latex": [
       "\\begin{description}\n",
       "\\item[\\$N1] 30\n",
       "\\item[\\$N2] 20\n",
       "\\item[\\$Y1] \\begin{enumerate*}\n",
       "\\item -2.80237823276106\n",
       "\\item -1.1508874474164\n",
       "\\item 7.79354157074562\n",
       "\\item 0.35254195712288\n",
       "\\item 0.646438675804731\n",
       "\\item 8.57532493441641\n",
       "\\item 2.30458102994601\n",
       "\\item -6.32530617303267\n",
       "\\item -3.43426425946763\n",
       "\\item -2.22830985049979\n",
       "\\item 6.12040898719731\n",
       "\\item 1.79906913528682\n",
       "\\item 2.00385725297026\n",
       "\\item 0.553413579725599\n",
       "\\item -2.77920567377037\n",
       "\\item 8.93456568401539\n",
       "\\item 2.4892523911462\n",
       "\\item -9.83308578314819\n",
       "\\item 3.50677950781843\n",
       "\\item -2.36395703863967\n",
       "\\item -5.33911852993423\n",
       "\\item -1.08987457329148\n",
       "\\item -5.1300222415362\n",
       "\\item -3.6444561464557\n",
       "\\item -3.12519633924628\n",
       "\\item -8.43346655371207\n",
       "\\item 4.18893522247262\n",
       "\\item 0.766865589182576\n",
       "\\item -5.69068468505974\n",
       "\\item 6.26907460534963\n",
       "\\end{enumerate*}\n",
       "\n",
       "\\item[\\$Y2] \\begin{enumerate*}\n",
       "\\item 2.70585688590725\n",
       "\\item -0.180285931969085\n",
       "\\item 4.58050264418009\n",
       "\\item 4.51253395013217\n",
       "\\item 4.28632432654995\n",
       "\\item 3.75456101640036\n",
       "\\item 3.21567061415036\n",
       "\\item 0.752353157693113\n",
       "\\item -0.223850654959667\n",
       "\\item -0.521884004049531\n",
       "\\item -1.77882791568205\n",
       "\\item 0.168330887921605\n",
       "\\item -4.06158540627306\n",
       "\\item 9.67582386135405\n",
       "\\item 5.83184799321996\n",
       "\\item -3.4924343328134\n",
       "\\item -0.611539341196304\n",
       "\\item -0.866621414492875\n",
       "\\item 4.11986047334527\n",
       "\\item 0.666523734112683\n",
       "\\end{enumerate*}\n",
       "\n",
       "\\end{description}\n"
      ],
      "text/markdown": [
       "$N1\n",
       ":   30\n",
       "$N2\n",
       ":   20\n",
       "$Y1\n",
       ":   1. -2.80237823276106\n",
       "2. -1.1508874474164\n",
       "3. 7.79354157074562\n",
       "4. 0.35254195712288\n",
       "5. 0.646438675804731\n",
       "6. 8.57532493441641\n",
       "7. 2.30458102994601\n",
       "8. -6.32530617303267\n",
       "9. -3.43426425946763\n",
       "10. -2.22830985049979\n",
       "11. 6.12040898719731\n",
       "12. 1.79906913528682\n",
       "13. 2.00385725297026\n",
       "14. 0.553413579725599\n",
       "15. -2.77920567377037\n",
       "16. 8.93456568401539\n",
       "17. 2.4892523911462\n",
       "18. -9.83308578314819\n",
       "19. 3.50677950781843\n",
       "20. -2.36395703863967\n",
       "21. -5.33911852993423\n",
       "22. -1.08987457329148\n",
       "23. -5.1300222415362\n",
       "24. -3.6444561464557\n",
       "25. -3.12519633924628\n",
       "26. -8.43346655371207\n",
       "27. 4.18893522247262\n",
       "28. 0.766865589182576\n",
       "29. -5.69068468505974\n",
       "30. 6.26907460534963\n",
       "\n",
       "\n",
       "\n",
       "$Y2\n",
       ":   1. 2.70585688590725\n",
       "2. -0.180285931969085\n",
       "3. 4.58050264418009\n",
       "4. 4.51253395013217\n",
       "5. 4.28632432654995\n",
       "6. 3.75456101640036\n",
       "7. 3.21567061415036\n",
       "8. 0.752353157693113\n",
       "9. -0.223850654959667\n",
       "10. -0.521884004049531\n",
       "11. -1.77882791568205\n",
       "12. 0.168330887921605\n",
       "13. -4.06158540627306\n",
       "14. 9.67582386135405\n",
       "15. 5.83184799321996\n",
       "16. -3.4924343328134\n",
       "17. -0.611539341196304\n",
       "18. -0.866621414492875\n",
       "19. 4.11986047334527\n",
       "20. 0.666523734112683\n",
       "\n",
       "\n",
       "\n",
       "\n",
       "\n"
      ],
      "text/plain": [
       "$N1\n",
       "[1] 30\n",
       "\n",
       "$N2\n",
       "[1] 20\n",
       "\n",
       "$Y1\n",
       " [1] -2.8023782 -1.1508874  7.7935416  0.3525420  0.6464387  8.5753249\n",
       " [7]  2.3045810 -6.3253062 -3.4342643 -2.2283099  6.1204090  1.7990691\n",
       "[13]  2.0038573  0.5534136 -2.7792057  8.9345657  2.4892524 -9.8330858\n",
       "[19]  3.5067795 -2.3639570 -5.3391185 -1.0898746 -5.1300222 -3.6444561\n",
       "[25] -3.1251963 -8.4334666  4.1889352  0.7668656 -5.6906847  6.2690746\n",
       "\n",
       "$Y2\n",
       " [1]  2.7058569 -0.1802859  4.5805026  4.5125340  4.2863243  3.7545610\n",
       " [7]  3.2156706  0.7523532 -0.2238507 -0.5218840 -1.7788279  0.1683309\n",
       "[13] -4.0615854  9.6758239  5.8318480 -3.4924343 -0.6115393 -0.8666214\n",
       "[19]  4.1198605  0.6665237\n"
      ]
     },
     "metadata": {},
     "output_type": "display_data"
    }
   ],
   "source": [
    "data <- list(N1=N1, N2=N2, Y1=Y1, Y2=Y2)\n",
    "data"
   ]
  },
  {
   "cell_type": "code",
   "execution_count": 22,
   "metadata": {},
   "outputs": [
    {
     "data": {
      "text/plain": [
       "Inference for Stan model: my_ex3.\n",
       "4 chains, each with iter=2000; warmup=1000; thin=1; \n",
       "post-warmup draws per chain=1000, total post-warmup draws=4000.\n",
       "\n",
       "        mean se_mean   sd    2.5%    25%    50%    75%  97.5% n_eff Rhat\n",
       "mu1    -0.24    0.01 0.80   -1.83  -0.77  -0.23   0.29   1.34  3539    1\n",
       "mu2     1.62    0.02 1.02   -0.38   0.95   1.63   2.28   3.61  3687    1\n",
       "sigma   4.48    0.01 0.47    3.67   4.16   4.45   4.76   5.53  3396    1\n",
       "lp__  -97.75    0.03 1.26 -101.02 -98.31 -97.41 -96.82 -96.32  1744    1\n",
       "\n",
       "Samples were drawn using NUTS(diag_e) at Sat Nov 25 15:52:38 2017.\n",
       "For each parameter, n_eff is a crude measure of effective sample size,\n",
       "and Rhat is the potential scale reduction factor on split chains (at \n",
       "convergence, Rhat=1)."
      ]
     },
     "metadata": {},
     "output_type": "display_data"
    }
   ],
   "source": [
    "data <- list(N1=N1, N2=N2, Y1=Y1, Y2=Y2)\n",
    "fit <- stan(file='exercise/my_ex3.stan', data=data, seed=1234)\n",
    "fit"
   ]
  },
  {
   "cell_type": "code",
   "execution_count": 23,
   "metadata": {},
   "outputs": [
    {
     "data": {
      "text/html": [
       "<table>\n",
       "<thead><tr><th scope=col>mu1</th><th scope=col>mu2</th></tr></thead>\n",
       "<tbody>\n",
       "\t<tr><td> 0.5650101</td><td>0.1577145 </td></tr>\n",
       "\t<tr><td>-0.4902248</td><td>1.4141500 </td></tr>\n",
       "\t<tr><td>-1.1471710</td><td>3.5704500 </td></tr>\n",
       "\t<tr><td>-1.0820169</td><td>1.1194888 </td></tr>\n",
       "\t<tr><td> 0.7643512</td><td>4.0232341 </td></tr>\n",
       "\t<tr><td> 0.3133074</td><td>2.8117053 </td></tr>\n",
       "</tbody>\n",
       "</table>\n"
      ],
      "text/latex": [
       "\\begin{tabular}{r|ll}\n",
       " mu1 & mu2\\\\\n",
       "\\hline\n",
       "\t  0.5650101 & 0.1577145 \\\\\n",
       "\t -0.4902248 & 1.4141500 \\\\\n",
       "\t -1.1471710 & 3.5704500 \\\\\n",
       "\t -1.0820169 & 1.1194888 \\\\\n",
       "\t  0.7643512 & 4.0232341 \\\\\n",
       "\t  0.3133074 & 2.8117053 \\\\\n",
       "\\end{tabular}\n"
      ],
      "text/markdown": [
       "\n",
       "mu1 | mu2 | \n",
       "|---|---|---|---|---|---|\n",
       "|  0.5650101 | 0.1577145  | \n",
       "| -0.4902248 | 1.4141500  | \n",
       "| -1.1471710 | 3.5704500  | \n",
       "| -1.0820169 | 1.1194888  | \n",
       "|  0.7643512 | 4.0232341  | \n",
       "|  0.3133074 | 2.8117053  | \n",
       "\n",
       "\n"
      ],
      "text/plain": [
       "  mu1        mu2      \n",
       "1  0.5650101 0.1577145\n",
       "2 -0.4902248 1.4141500\n",
       "3 -1.1471710 3.5704500\n",
       "4 -1.0820169 1.1194888\n",
       "5  0.7643512 4.0232341\n",
       "6  0.3133074 2.8117053"
      ]
     },
     "metadata": {},
     "output_type": "display_data"
    }
   ],
   "source": [
    "ms <- rstan::extract(fit)\n",
    "df <- data.frame(mu1=ms$mu1, mu2=ms$mu2)\n",
    "head(df)"
   ]
  },
  {
   "cell_type": "code",
   "execution_count": 24,
   "metadata": {},
   "outputs": [
    {
     "data": {
      "text/html": [
       "<table>\n",
       "<thead><tr><th scope=col>mu1 &lt; mu2</th><th scope=col>n</th></tr></thead>\n",
       "<tbody>\n",
       "\t<tr><td>FALSE</td><td> 303 </td></tr>\n",
       "\t<tr><td> TRUE</td><td>3697 </td></tr>\n",
       "</tbody>\n",
       "</table>\n"
      ],
      "text/latex": [
       "\\begin{tabular}{r|ll}\n",
       " mu1 < mu2 & n\\\\\n",
       "\\hline\n",
       "\t FALSE &  303 \\\\\n",
       "\t  TRUE & 3697 \\\\\n",
       "\\end{tabular}\n"
      ],
      "text/markdown": [
       "\n",
       "mu1 < mu2 | n | \n",
       "|---|---|\n",
       "| FALSE |  303  | \n",
       "|  TRUE | 3697  | \n",
       "\n",
       "\n"
      ],
      "text/plain": [
       "  mu1 < mu2 n   \n",
       "1 FALSE      303\n",
       "2  TRUE     3697"
      ]
     },
     "metadata": {},
     "output_type": "display_data"
    },
    {
     "data": {
      "text/html": [
       "0.92425"
      ],
      "text/latex": [
       "0.92425"
      ],
      "text/markdown": [
       "0.92425"
      ],
      "text/plain": [
       "[1] 0.92425"
      ]
     },
     "metadata": {},
     "output_type": "display_data"
    }
   ],
   "source": [
    "cnt = count(df, mu1<mu2)\n",
    "cnt\n",
    "# Prob\n",
    "cnt$n[2] / sum(cnt$n)"
   ]
  },
  {
   "cell_type": "code",
   "execution_count": 25,
   "metadata": {},
   "outputs": [
    {
     "data": {
      "text/html": [
       "0.92425"
      ],
      "text/latex": [
       "0.92425"
      ],
      "text/markdown": [
       "0.92425"
      ],
      "text/plain": [
       "[1] 0.92425"
      ]
     },
     "metadata": {},
     "output_type": "display_data"
    }
   ],
   "source": [
    "# ex4.R\n",
    "# 正解\n",
    "prob <- mean(ms$mu1 < ms$mu2)  #=> 0.9325\n",
    "prob"
   ]
  },
  {
   "cell_type": "markdown",
   "metadata": {},
   "source": [
    "### (5) グループごとの標準偏差が異なる場合\n",
    "- モデル式\n",
    "$$\n",
    "Y_1[n] \\sim Normal(\\mu_1, \\sigma_1) \\:\\:\\: n=1, 2, ..., N_1 \\\\\n",
    "Y_2[n] \\sim Normal(\\mu_2, \\sigma_2) \\:\\:\\: n=1, 2, ..., N_2\n",
    "$$\n",
    "\n",
    "- モデルファイル\n",
    "exercise/my_ex5.stan\n",
    "\n",
    "- $Prob[\\mu1 < \\mu2]$"
   ]
  },
  {
   "cell_type": "code",
   "execution_count": 26,
   "metadata": {},
   "outputs": [
    {
     "name": "stderr",
     "output_type": "stream",
     "text": [
      "recompiling to avoid crashing R session\n"
     ]
    },
    {
     "name": "stdout",
     "output_type": "stream",
     "text": [
      "In file included from file69b42425bde8.cpp:8:\n",
      "In file included from /usr/local/lib/R/3.4/site-library/StanHeaders/include/src/stan/model/model_header.hpp:4:\n",
      "In file included from /usr/local/lib/R/3.4/site-library/StanHeaders/include/stan/math.hpp:4:\n",
      "In file included from /usr/local/lib/R/3.4/site-library/StanHeaders/include/stan/math/rev/mat.hpp:4:\n",
      "In file included from /usr/local/lib/R/3.4/site-library/StanHeaders/include/stan/math/rev/core.hpp:12:\n",
      "In file included from /usr/local/lib/R/3.4/site-library/StanHeaders/include/stan/math/rev/core/gevv_vvv_vari.hpp:5:\n",
      "In file included from /usr/local/lib/R/3.4/site-library/StanHeaders/include/stan/math/rev/core/var.hpp:7:\n",
      "In file included from /usr/local/lib/R/3.4/site-library/BH/include/boost/math/tools/config.hpp:13:\n",
      "In file included from /usr/local/lib/R/3.4/site-library/BH/include/boost/config.hpp:39:\n",
      "/usr/local/lib/R/3.4/site-library/BH/include/boost/config/compiler/clang.hpp:200:11: warning: 'BOOST_NO_CXX11_RVALUE_REFERENCES' macro redefined [-Wmacro-redefined]\n",
      "#  define BOOST_NO_CXX11_RVALUE_REFERENCES\n",
      "          ^\n",
      "<command line>:6:9: note: previous definition is here\n",
      "#define BOOST_NO_CXX11_RVALUE_REFERENCES 1\n",
      "        ^\n",
      "1 warning generated.\n"
     ]
    }
   ],
   "source": [
    "data <- list(N1=N1, N2=N2, Y1=Y1, Y2=Y2)\n",
    "fit <- stan(file='exercise/my_ex5.stan', data=data, seed=1234)\n",
    "ms <- rstan::extract(fit)"
   ]
  },
  {
   "cell_type": "code",
   "execution_count": 27,
   "metadata": {},
   "outputs": [
    {
     "data": {
      "text/html": [
       "0.9365"
      ],
      "text/latex": [
       "0.9365"
      ],
      "text/markdown": [
       "0.9365"
      ],
      "text/plain": [
       "[1] 0.9365"
      ]
     },
     "metadata": {},
     "output_type": "display_data"
    }
   ],
   "source": [
    "prob <- mean(ms$mu1 < ms$mu2)\n",
    "prob"
   ]
  },
  {
   "cell_type": "code",
   "execution_count": 28,
   "metadata": {},
   "outputs": [
    {
     "data": {
      "text/html": [
       "5.12053167799536"
      ],
      "text/latex": [
       "5.12053167799536"
      ],
      "text/markdown": [
       "5.12053167799536"
      ],
      "text/plain": [
       "[1] 5.120532"
      ]
     },
     "metadata": {},
     "output_type": "display_data"
    },
    {
     "data": {
      "text/html": [
       "3.63551043664974"
      ],
      "text/latex": [
       "3.63551043664974"
      ],
      "text/markdown": [
       "3.63551043664974"
      ],
      "text/plain": [
       "[1] 3.63551"
      ]
     },
     "metadata": {},
     "output_type": "display_data"
    }
   ],
   "source": [
    "# 標準偏差を確認してみる\n",
    "mean(ms$sigma1)\n",
    "mean(ms$sigma2)"
   ]
  },
  {
   "cell_type": "code",
   "execution_count": null,
   "metadata": {},
   "outputs": [],
   "source": []
  }
 ],
 "metadata": {
  "kernelspec": {
   "display_name": "R",
   "language": "R",
   "name": "ir"
  },
  "language_info": {
   "codemirror_mode": "r",
   "file_extension": ".r",
   "mimetype": "text/x-r-source",
   "name": "R",
   "pygments_lexer": "r",
   "version": "3.4.2"
  }
 },
 "nbformat": 4,
 "nbformat_minor": 2
}
